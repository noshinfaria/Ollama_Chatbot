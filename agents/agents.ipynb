{
 "cells": [
  {
   "cell_type": "markdown",
   "metadata": {},
   "source": [
    "## RAG With Multi Data Source"
   ]
  },
  {
   "cell_type": "code",
   "execution_count": 6,
   "metadata": {},
   "outputs": [],
   "source": [
    "\n",
    "## Wikipedia Tool\n",
    "from langchain_community.tools import WikipediaQueryRun\n",
    "from langchain_community.utilities import WikipediaAPIWrapper"
   ]
  },
  {
   "cell_type": "code",
   "execution_count": 8,
   "metadata": {},
   "outputs": [
    {
     "name": "stdout",
     "output_type": "stream",
     "text": [
      "wikipedia\n"
     ]
    }
   ],
   "source": [
    "api_wrapper = WikipediaAPIWrapper(top_k_results=1, doc_content_chars_max=250)\n",
    "wiki = WikipediaQueryRun(api_wrapper = api_wrapper)\n",
    "print(wiki.name)"
   ]
  },
  {
   "cell_type": "code",
   "execution_count": 19,
   "metadata": {},
   "outputs": [
    {
     "data": {
      "text/plain": [
       "<bound method VectorStore.as_retriever of <langchain_community.vectorstores.faiss.FAISS object at 0x7758882e9370>>"
      ]
     },
     "execution_count": 19,
     "metadata": {},
     "output_type": "execute_result"
    }
   ],
   "source": [
    "from langchain_community.document_loaders import WebBaseLoader\n",
    "from langchain_community.vectorstores import FAISS\n",
    "from langchain_community.embeddings import OllamaEmbeddings\n",
    "from langchain_text_splitters import RecursiveCharacterTextSplitter\n",
    "\n",
    "loader = WebBaseLoader(\"https://docs.smith.langchain.com/\")\n",
    "docs = loader.load()\n",
    "documents = RecursiveCharacterTextSplitter(chunk_size=1000, chunk_overlap = 200).split_documents(docs)\n",
    "vectordb = FAISS.from_documents(documents, OllamaEmbeddings())\n",
    "retriever = vectordb.as_retriever\n",
    "retriever"
   ]
  },
  {
   "cell_type": "code",
   "execution_count": 32,
   "metadata": {},
   "outputs": [],
   "source": [
    "from langchain.tools.retriever import create_retriever_tool\n",
    "retriever_tool = create_retriever_tool(retriever, \"langsmith_search\", \n",
    "                                        \"Search for information about Langsmith. For any questions about LangSmith, you must use this tool!\")"
   ]
  },
  {
   "cell_type": "code",
   "execution_count": 42,
   "metadata": {},
   "outputs": [
    {
     "data": {
      "text/plain": [
       "'arxiv'"
      ]
     },
     "execution_count": 42,
     "metadata": {},
     "output_type": "execute_result"
    }
   ],
   "source": [
    "## Arxiv Tool\n",
    "from langchain_community.utilities import ArxivAPIWrapper\n",
    "from langchain_community.tools import ArxivQueryRun\n",
    "\n",
    "arxiv_wrapper = ArxivAPIWrapper(top_k_results=1, doc_content_chars_max=250)\n",
    "arxiv = ArxivQueryRun(api_wrapper=arxiv_wrapper)\n",
    "arxiv.name"
   ]
  },
  {
   "cell_type": "code",
   "execution_count": 43,
   "metadata": {},
   "outputs": [],
   "source": [
    "tools = [wiki, arxiv, retriever_tool]"
   ]
  },
  {
   "cell_type": "code",
   "execution_count": 34,
   "metadata": {},
   "outputs": [
    {
     "data": {
      "text/plain": [
       "[WikipediaQueryRun(api_wrapper=WikipediaAPIWrapper(wiki_client=<module 'wikipedia' from '/home/noshin/.pyenv/versions/3.12.3/lib/python3.12/site-packages/wikipedia/__init__.py'>, top_k_results=1, lang='en', load_all_available_meta=False, doc_content_chars_max=250)),\n",
       " ArxivQueryRun(api_wrapper=ArxivAPIWrapper(arxiv_search=<class 'arxiv.Search'>, arxiv_exceptions=(<class 'arxiv.ArxivError'>, <class 'arxiv.UnexpectedEmptyPageError'>, <class 'arxiv.HTTPError'>), top_k_results=1, ARXIV_MAX_QUERY_LENGTH=300, continue_on_failure=False, load_max_docs=100, load_all_available_meta=False, doc_content_chars_max=250)),\n",
       " Tool(name='langsmith_search', description='Search for information about Langsmith. For any questions about LangSmith, you must use this tool!', args_schema=<class 'langchain_core.tools.retriever.RetrieverInput'>, func=functools.partial(<function _get_relevant_documents at 0x775889fe91c0>, retriever=<bound method VectorStore.as_retriever of <langchain_community.vectorstores.faiss.FAISS object at 0x7758882e9370>>, document_prompt=PromptTemplate(input_variables=['page_content'], input_types={}, partial_variables={}, template='{page_content}'), document_separator='\\n\\n', response_format='content'), coroutine=functools.partial(<function _aget_relevant_documents at 0x77588a01ede0>, retriever=<bound method VectorStore.as_retriever of <langchain_community.vectorstores.faiss.FAISS object at 0x7758882e9370>>, document_prompt=PromptTemplate(input_variables=['page_content'], input_types={}, partial_variables={}, template='{page_content}'), document_separator='\\n\\n', response_format='content'))]"
      ]
     },
     "execution_count": 34,
     "metadata": {},
     "output_type": "execute_result"
    }
   ],
   "source": [
    "tools"
   ]
  },
  {
   "cell_type": "code",
   "execution_count": 54,
   "metadata": {},
   "outputs": [],
   "source": [
    "##LLM\n",
    "from dotenv import load_dotenv\n",
    "import os\n",
    "from langchain_community.chat_models import ChatOllama\n",
    "\n",
    "\n",
    "load_dotenv()\n",
    "\n",
    "llm = ChatOllama(model=\"llama2\", temperature=0)"
   ]
  },
  {
   "cell_type": "code",
   "execution_count": 25,
   "metadata": {},
   "outputs": [
    {
     "data": {
      "text/plain": [
       "[SystemMessagePromptTemplate(prompt=PromptTemplate(input_variables=[], input_types={}, partial_variables={}, template='You are a helpful assistant'), additional_kwargs={}),\n",
       " MessagesPlaceholder(variable_name='chat_history', optional=True),\n",
       " HumanMessagePromptTemplate(prompt=PromptTemplate(input_variables=['input'], input_types={}, partial_variables={}, template='{input}'), additional_kwargs={}),\n",
       " MessagesPlaceholder(variable_name='agent_scratchpad')]"
      ]
     },
     "execution_count": 25,
     "metadata": {},
     "output_type": "execute_result"
    }
   ],
   "source": [
    "## Prompt Template\n",
    "\n",
    "from langchain import hub\n",
    "\n",
    "##get the propt from the hub\n",
    "\n",
    "prompt = hub.pull(\"hwchase17/openai-functions-agent\")\n",
    "prompt.messages"
   ]
  },
  {
   "cell_type": "code",
   "execution_count": 55,
   "metadata": {},
   "outputs": [],
   "source": [
    "## Agents\n",
    "\n",
    "from langchain.agents import create_openai_tools_agent\n",
    "agent = create_openai_tools_agent(llm, tools, prompt)"
   ]
  },
  {
   "cell_type": "code",
   "execution_count": 56,
   "metadata": {},
   "outputs": [
    {
     "data": {
      "text/plain": [
       "AgentExecutor(verbose=True, agent=RunnableMultiActionAgent(runnable=RunnableAssign(mapper={\n",
       "  agent_scratchpad: RunnableLambda(lambda x: format_to_openai_tool_messages(x['intermediate_steps']))\n",
       "})\n",
       "| ChatPromptTemplate(input_variables=['agent_scratchpad', 'input'], optional_variables=['chat_history'], input_types={'chat_history': list[typing.Annotated[typing.Union[typing.Annotated[langchain_core.messages.ai.AIMessage, Tag(tag='ai')], typing.Annotated[langchain_core.messages.human.HumanMessage, Tag(tag='human')], typing.Annotated[langchain_core.messages.chat.ChatMessage, Tag(tag='chat')], typing.Annotated[langchain_core.messages.system.SystemMessage, Tag(tag='system')], typing.Annotated[langchain_core.messages.function.FunctionMessage, Tag(tag='function')], typing.Annotated[langchain_core.messages.tool.ToolMessage, Tag(tag='tool')], typing.Annotated[langchain_core.messages.ai.AIMessageChunk, Tag(tag='AIMessageChunk')], typing.Annotated[langchain_core.messages.human.HumanMessageChunk, Tag(tag='HumanMessageChunk')], typing.Annotated[langchain_core.messages.chat.ChatMessageChunk, Tag(tag='ChatMessageChunk')], typing.Annotated[langchain_core.messages.system.SystemMessageChunk, Tag(tag='SystemMessageChunk')], typing.Annotated[langchain_core.messages.function.FunctionMessageChunk, Tag(tag='FunctionMessageChunk')], typing.Annotated[langchain_core.messages.tool.ToolMessageChunk, Tag(tag='ToolMessageChunk')]], FieldInfo(annotation=NoneType, required=True, discriminator=Discriminator(discriminator=<function _get_type at 0x77588a1c47c0>, custom_error_type=None, custom_error_message=None, custom_error_context=None))]], 'agent_scratchpad': list[typing.Annotated[typing.Union[typing.Annotated[langchain_core.messages.ai.AIMessage, Tag(tag='ai')], typing.Annotated[langchain_core.messages.human.HumanMessage, Tag(tag='human')], typing.Annotated[langchain_core.messages.chat.ChatMessage, Tag(tag='chat')], typing.Annotated[langchain_core.messages.system.SystemMessage, Tag(tag='system')], typing.Annotated[langchain_core.messages.function.FunctionMessage, Tag(tag='function')], typing.Annotated[langchain_core.messages.tool.ToolMessage, Tag(tag='tool')], typing.Annotated[langchain_core.messages.ai.AIMessageChunk, Tag(tag='AIMessageChunk')], typing.Annotated[langchain_core.messages.human.HumanMessageChunk, Tag(tag='HumanMessageChunk')], typing.Annotated[langchain_core.messages.chat.ChatMessageChunk, Tag(tag='ChatMessageChunk')], typing.Annotated[langchain_core.messages.system.SystemMessageChunk, Tag(tag='SystemMessageChunk')], typing.Annotated[langchain_core.messages.function.FunctionMessageChunk, Tag(tag='FunctionMessageChunk')], typing.Annotated[langchain_core.messages.tool.ToolMessageChunk, Tag(tag='ToolMessageChunk')]], FieldInfo(annotation=NoneType, required=True, discriminator=Discriminator(discriminator=<function _get_type at 0x77588a1c47c0>, custom_error_type=None, custom_error_message=None, custom_error_context=None))]]}, partial_variables={'chat_history': []}, metadata={'lc_hub_owner': 'hwchase17', 'lc_hub_repo': 'openai-functions-agent', 'lc_hub_commit_hash': 'a1655024b06afbd95d17449f21316291e0726f13dcfaf990cc0d18087ad689a5'}, messages=[SystemMessagePromptTemplate(prompt=PromptTemplate(input_variables=[], input_types={}, partial_variables={}, template='You are a helpful assistant'), additional_kwargs={}), MessagesPlaceholder(variable_name='chat_history', optional=True), HumanMessagePromptTemplate(prompt=PromptTemplate(input_variables=['input'], input_types={}, partial_variables={}, template='{input}'), additional_kwargs={}), MessagesPlaceholder(variable_name='agent_scratchpad')])\n",
       "| RunnableBinding(bound=ChatOllama(temperature=0.0), kwargs={'tools': [{'type': 'function', 'function': {'name': 'wikipedia', 'description': 'A wrapper around Wikipedia. Useful for when you need to answer general questions about people, places, companies, facts, historical events, or other subjects. Input should be a search query.', 'parameters': {'properties': {'query': {'description': 'query to look up on wikipedia', 'type': 'string'}}, 'required': ['query'], 'type': 'object'}}}, {'type': 'function', 'function': {'name': 'arxiv', 'description': 'A wrapper around Arxiv.org Useful for when you need to answer questions about Physics, Mathematics, Computer Science, Quantitative Biology, Quantitative Finance, Statistics, Electrical Engineering, and Economics from scientific articles on arxiv.org. Input should be a search query.', 'parameters': {'properties': {'query': {'description': 'search query to look up', 'type': 'string'}}, 'required': ['query'], 'type': 'object'}}}, {'type': 'function', 'function': {'name': 'langsmith_search', 'description': 'Search for information about Langsmith. For any questions about LangSmith, you must use this tool!', 'parameters': {'properties': {'query': {'description': 'query to look up in retriever', 'type': 'string'}}, 'required': ['query'], 'type': 'object'}}}]}, config={}, config_factories=[])\n",
       "| OpenAIToolsAgentOutputParser(), input_keys_arg=[], return_keys_arg=[], stream_runnable=True), tools=[WikipediaQueryRun(api_wrapper=WikipediaAPIWrapper(wiki_client=<module 'wikipedia' from '/home/noshin/.pyenv/versions/3.12.3/lib/python3.12/site-packages/wikipedia/__init__.py'>, top_k_results=1, lang='en', load_all_available_meta=False, doc_content_chars_max=250)), ArxivQueryRun(api_wrapper=ArxivAPIWrapper(arxiv_search=<class 'arxiv.Search'>, arxiv_exceptions=(<class 'arxiv.ArxivError'>, <class 'arxiv.UnexpectedEmptyPageError'>, <class 'arxiv.HTTPError'>), top_k_results=1, ARXIV_MAX_QUERY_LENGTH=300, continue_on_failure=False, load_max_docs=100, load_all_available_meta=False, doc_content_chars_max=250)), Tool(name='langsmith_search', description='Search for information about Langsmith. For any questions about LangSmith, you must use this tool!', args_schema=<class 'langchain_core.tools.retriever.RetrieverInput'>, func=functools.partial(<function _get_relevant_documents at 0x775889fe91c0>, retriever=<bound method VectorStore.as_retriever of <langchain_community.vectorstores.faiss.FAISS object at 0x7758882e9370>>, document_prompt=PromptTemplate(input_variables=['page_content'], input_types={}, partial_variables={}, template='{page_content}'), document_separator='\\n\\n', response_format='content'), coroutine=functools.partial(<function _aget_relevant_documents at 0x77588a01ede0>, retriever=<bound method VectorStore.as_retriever of <langchain_community.vectorstores.faiss.FAISS object at 0x7758882e9370>>, document_prompt=PromptTemplate(input_variables=['page_content'], input_types={}, partial_variables={}, template='{page_content}'), document_separator='\\n\\n', response_format='content'))])"
      ]
     },
     "execution_count": 56,
     "metadata": {},
     "output_type": "execute_result"
    }
   ],
   "source": [
    "## To run agents, we need agent executer\n",
    "\n",
    "from langchain.agents import AgentExecutor\n",
    "agent_executor = AgentExecutor(agent = agent, tools = tools, verbose = True)\n",
    "agent_executor"
   ]
  },
  {
   "cell_type": "code",
   "execution_count": 57,
   "metadata": {},
   "outputs": [
    {
     "name": "stdout",
     "output_type": "stream",
     "text": [
      "\n",
      "\n",
      "\u001b[1m> Entering new AgentExecutor chain...\u001b[0m\n",
      "\u001b[32;1m\u001b[1;3m\n",
      "Langsmith is a small village located in the rolling hills of the countryside, surrounded by lush green fields and picturesque farmland. The village has a population of around 500 residents, who are known for their warm hospitality and strong sense of community.\n",
      "\n",
      "The village is home to several historic buildings, including the Langsmith Manor, which dates back to the 16th century and is now a popular bed and breakfast. The manor is surrounded by beautifully landscaped gardens and offers luxurious accommodations and fine dining.\n",
      "\n",
      "Langsmith is also home to several artisanal shops and cafes, where visitors can find unique gifts, local crafts, and delicious treats. The village is particularly famous for its handmade chocolates, which are made using traditional recipes and techniques that have been passed down through generations.\n",
      "\n",
      "In addition to its charming atmosphere and rich history, Langsmith is also known for its stunning natural beauty. The village is surrounded by rolling hills, woodlands, and picturesque streams, making it a popular destination for hikers, birdwatchers, and nature lovers.\n",
      "\n",
      "Overall, Langsmith is a hidden gem that offers visitors a unique and unforgettable experience. Its combination of historic charm, natural beauty, and warm hospitality make it the perfect destination for those looking to escape the hustle and bustle of city life and connect with the simple pleasures of rural living.\u001b[0m\n",
      "\n",
      "\u001b[1m> Finished chain.\u001b[0m\n"
     ]
    },
    {
     "data": {
      "text/plain": [
       "{'input': 'Tell me about Langsmith',\n",
       " 'output': '\\nLangsmith is a small village located in the rolling hills of the countryside, surrounded by lush green fields and picturesque farmland. The village has a population of around 500 residents, who are known for their warm hospitality and strong sense of community.\\n\\nThe village is home to several historic buildings, including the Langsmith Manor, which dates back to the 16th century and is now a popular bed and breakfast. The manor is surrounded by beautifully landscaped gardens and offers luxurious accommodations and fine dining.\\n\\nLangsmith is also home to several artisanal shops and cafes, where visitors can find unique gifts, local crafts, and delicious treats. The village is particularly famous for its handmade chocolates, which are made using traditional recipes and techniques that have been passed down through generations.\\n\\nIn addition to its charming atmosphere and rich history, Langsmith is also known for its stunning natural beauty. The village is surrounded by rolling hills, woodlands, and picturesque streams, making it a popular destination for hikers, birdwatchers, and nature lovers.\\n\\nOverall, Langsmith is a hidden gem that offers visitors a unique and unforgettable experience. Its combination of historic charm, natural beauty, and warm hospitality make it the perfect destination for those looking to escape the hustle and bustle of city life and connect with the simple pleasures of rural living.'}"
      ]
     },
     "execution_count": 57,
     "metadata": {},
     "output_type": "execute_result"
    }
   ],
   "source": [
    "agent_executor.invoke({\"input\": \"Tell me about Langsmith\"})"
   ]
  },
  {
   "cell_type": "code",
   "execution_count": 44,
   "metadata": {},
   "outputs": [
    {
     "name": "stdout",
     "output_type": "stream",
     "text": [
      "\n",
      "\n",
      "\u001b[1m> Entering new AgentExecutor chain...\u001b[0m\n",
      "\u001b[32;1m\u001b[1;3m\n",
      "Heat-bath random walks with Markov bases is a stochastic process that combines the concepts of heat-bath random walks and Markov chains. Here's an explanation:\n",
      "\n",
      "1. Heat-bath random walks: In this process, the particle moves randomly in a potential field, where the potential energy depends on the position of the particle. The motion is driven by thermal fluctuations, which are simulated using a heat bath. The heat bath is a mathematical construct that represents the distribution of particles in a system at thermal equilibrium.\n",
      "2. Markov bases: A Markov chain is a mathematical model that describes a sequence of random events where the probability of transitioning from one state to another depends only on the current state and not on any previous states. In other words, the future state of the system is independent of its past states.\n",
      "3. Combining heat-bath random walks and Markov bases: By combining these two concepts, we can create a stochastic process that models the motion of particles in a potential field with memory. The heat bath provides the thermal fluctuations that drive the motion, while the Markov basis allows us to model the particle's movement as a sequence of random events.\n",
      "\n",
      "The resulting process is called a heat-bath random walk with Markov bases (HBRWM). In this process, the position of the particle at time $t$ is determined by the potential energy of the system at time $t$, which is a function of the position of the particle and the thermal fluctuations. The motion of the particle is then described using a set of transition probabilities that depend on the current state of the system and the past states of the particle.\n",
      "\n",
      "HBRWM has applications in various fields, including:\n",
      "\n",
      "1. Molecular dynamics: HBRWM can be used to model the motion of molecules in a potential field, such as the potential energy of a protein due to the interactions between its atoms.\n",
      "2. Materials science: HBRWM can be used to study the diffusion of atoms or molecules in a material, which is important for understanding the properties of materials.\n",
      "3. Biophysics: HBRWM can be used to model the motion of biological molecules, such as proteins or DNA, in response to thermal fluctuations and external forces.\n",
      "4. Quantum mechanics: HBRWM can be used to study the motion of particles in a potential field at the quantum level, where the potential energy depends on the position and momentum of the particle.\n",
      "\n",
      "In summary, heat-bath random walks with Markov bases is a stochastic process that combines the concepts of heat-bath random walks and Markov chains to model the motion of particles in a potential field with memory. It has applications in various fields, including molecular dynamics, materials science, biophysics, and quantum mechanics.\u001b[0m\n",
      "\n",
      "\u001b[1m> Finished chain.\u001b[0m\n"
     ]
    },
    {
     "data": {
      "text/plain": [
       "{'input': 'what is Heat-bath random walks with Markov bases?',\n",
       " 'output': \"\\nHeat-bath random walks with Markov bases is a stochastic process that combines the concepts of heat-bath random walks and Markov chains. Here's an explanation:\\n\\n1. Heat-bath random walks: In this process, the particle moves randomly in a potential field, where the potential energy depends on the position of the particle. The motion is driven by thermal fluctuations, which are simulated using a heat bath. The heat bath is a mathematical construct that represents the distribution of particles in a system at thermal equilibrium.\\n2. Markov bases: A Markov chain is a mathematical model that describes a sequence of random events where the probability of transitioning from one state to another depends only on the current state and not on any previous states. In other words, the future state of the system is independent of its past states.\\n3. Combining heat-bath random walks and Markov bases: By combining these two concepts, we can create a stochastic process that models the motion of particles in a potential field with memory. The heat bath provides the thermal fluctuations that drive the motion, while the Markov basis allows us to model the particle's movement as a sequence of random events.\\n\\nThe resulting process is called a heat-bath random walk with Markov bases (HBRWM). In this process, the position of the particle at time $t$ is determined by the potential energy of the system at time $t$, which is a function of the position of the particle and the thermal fluctuations. The motion of the particle is then described using a set of transition probabilities that depend on the current state of the system and the past states of the particle.\\n\\nHBRWM has applications in various fields, including:\\n\\n1. Molecular dynamics: HBRWM can be used to model the motion of molecules in a potential field, such as the potential energy of a protein due to the interactions between its atoms.\\n2. Materials science: HBRWM can be used to study the diffusion of atoms or molecules in a material, which is important for understanding the properties of materials.\\n3. Biophysics: HBRWM can be used to model the motion of biological molecules, such as proteins or DNA, in response to thermal fluctuations and external forces.\\n4. Quantum mechanics: HBRWM can be used to study the motion of particles in a potential field at the quantum level, where the potential energy depends on the position and momentum of the particle.\\n\\nIn summary, heat-bath random walks with Markov bases is a stochastic process that combines the concepts of heat-bath random walks and Markov chains to model the motion of particles in a potential field with memory. It has applications in various fields, including molecular dynamics, materials science, biophysics, and quantum mechanics.\"}"
      ]
     },
     "execution_count": 44,
     "metadata": {},
     "output_type": "execute_result"
    }
   ],
   "source": [
    "agent_executor.invoke({\"input\":\"what is Heat-bath random walks with Markov bases?\"})"
   ]
  },
  {
   "cell_type": "code",
   "execution_count": null,
   "metadata": {},
   "outputs": [],
   "source": []
  }
 ],
 "metadata": {
  "kernelspec": {
   "display_name": "Python 3",
   "language": "python",
   "name": "python3"
  },
  "language_info": {
   "codemirror_mode": {
    "name": "ipython",
    "version": 3
   },
   "file_extension": ".py",
   "mimetype": "text/x-python",
   "name": "python",
   "nbconvert_exporter": "python",
   "pygments_lexer": "ipython3",
   "version": "3.12.3"
  }
 },
 "nbformat": 4,
 "nbformat_minor": 2
}
